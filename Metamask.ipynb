{
 "cells": [
  {
   "cell_type": "markdown",
   "id": "c569df7e-64c1-4e0c-819b-7b67506eaa99",
   "metadata": {},
   "source": [
    "Transaction URL: https://kovan.etherscan.io/tx/0x43c716c44d93f1e172d75e7ba17ab5def4b566d54e6403c1cdf1a02310c86116 \\\n",
    "Transaction Hash: 0x43c716c44d93f1e172d75e7ba17ab5def4b566d54e6403c1cdf1a02310c86116 \\\n",
    "Block: 28761893 \\\n",
    "Timestamp: Dec-14-2021 08:41:52 AM"
   ]
  },
  {
   "cell_type": "code",
   "execution_count": null,
   "id": "723c203a-e560-4942-b15c-6e49e7f0d74d",
   "metadata": {},
   "outputs": [],
   "source": []
  }
 ],
 "metadata": {
  "kernelspec": {
   "display_name": "Python 3",
   "language": "python",
   "name": "python3"
  },
  "language_info": {
   "codemirror_mode": {
    "name": "ipython",
    "version": 3
   },
   "file_extension": ".py",
   "mimetype": "text/x-python",
   "name": "python",
   "nbconvert_exporter": "python",
   "pygments_lexer": "ipython3",
   "version": "3.8.8"
  }
 },
 "nbformat": 4,
 "nbformat_minor": 5
}
