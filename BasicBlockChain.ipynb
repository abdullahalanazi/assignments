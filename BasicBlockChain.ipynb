{
 "cells": [
  {
   "cell_type": "code",
   "execution_count": 1,
   "id": "80c6909a-a1bf-45f4-ac7b-8a4c7357e5d0",
   "metadata": {},
   "outputs": [
    {
     "name": "stdout",
     "output_type": "stream",
     "text": [
      "Requirement already satisfied: jason in c:\\users\\dell\\anaconda3\\lib\\site-packages (0.1.7)\n"
     ]
    }
   ],
   "source": [
    "!pip install jason"
   ]
  },
  {
   "cell_type": "code",
   "execution_count": 121,
   "id": "313e5947-6883-4464-996d-144dfa0d351d",
   "metadata": {},
   "outputs": [],
   "source": [
    "from hashlib import sha256\n",
    "import time \n",
    "import json"
   ]
  },
  {
   "cell_type": "code",
   "execution_count": 122,
   "id": "b5bc9fdd-ac3a-4a90-99e2-9e56a3f274de",
   "metadata": {},
   "outputs": [],
   "source": [
    "class MyBlock():\n",
    "    def __init__(self,\n",
    "                index = 0,\n",
    "                transactions:list = [],\n",
    "                timestamp:int = 0,\n",
    "                property_hash:str = \"\",\n",
    "                previous_hash:str = \"\",\n",
    "                nonce:int = 0):\n",
    "        self.index:int = index\n",
    "        self.transactions:list = transactions\n",
    "        self.timestamp:int = timestamp\n",
    "        self.property_hash:str = property_hash\n",
    "        self.previous_hash:str = previous_hash\n",
    "        self.nonce:int = nonce\n",
    "            \n",
    "            \n",
    "    def compute_hash(self):\n",
    "        block_string = json.dumps(self.__dict__, sort_keys=True)\n",
    "        return sha256(block_string.encode()).hexdigest()\n"
   ]
  },
  {
   "cell_type": "code",
   "execution_count": 123,
   "id": "203db7ea-92e0-40bb-b8ec-9b9556380c3c",
   "metadata": {},
   "outputs": [
    {
     "data": {
      "text/plain": [
       "'Tue Dec  7 23:23:38 2021'"
      ]
     },
     "execution_count": 123,
     "metadata": {},
     "output_type": "execute_result"
    }
   ],
   "source": [
    "time.asctime()"
   ]
  },
  {
   "cell_type": "code",
   "execution_count": 124,
   "id": "1f425993-f2ec-449e-a73b-f35a0bb21f7c",
   "metadata": {},
   "outputs": [],
   "source": [
    "class Blockchain(): \n",
    "    def __init__(self):\n",
    "        self.unconfirmed_transactions:list[dict] = []\n",
    "        self.chain:list[Block] = []\n",
    "        self.difficulty:int=2\n",
    "        self.create_genesis_block()\n",
    "        \n",
    "    def get_last_block(self):\n",
    "        return self.chain[-1]\n",
    " \n",
    "    def create_genesis_block(self):\n",
    "        genesis_block = MyBlock(index=0,\n",
    "                                transactions=[],\n",
    "                                timestamp=time.asctime(),\n",
    "                                previous_hash=\"\",\n",
    "                                property_hash=\"\", nonce=0)\n",
    "        genesis_block.hash = genesis_block.compute_hash()\n",
    "        self.chain.append(genesis_block)\n",
    "    \n",
    "    def proof_of_work(self, block):\n",
    "        \n",
    "        computed_hash = block.compute_hash()\n",
    "        while not computed_hash.startswith('0' * self.difficulty):\n",
    "            block.nonce += 1\n",
    "            computed_hash = block.compute_hash()\n",
    "        return computed_hash\n",
    "    \n",
    "    def is_valid_proof(self, block, block_hash):\n",
    "        return (block_hash.startswith('0' * self.difficulty) and\n",
    "                block_hash == block.compute_hash())\n",
    "    \n",
    "    def add_block(self, block:MyBlock, block_hash:str) -> bool:\n",
    "        last_block = self.get_last_block()\n",
    "        last_block.hash\n",
    "        \n",
    "        if last_block.property_hash != block.previous_hash:\n",
    "            return False\n",
    "        \n",
    "        if not self.is_valid_proof(block, proof):\n",
    "            return False\n",
    "        \n",
    "        block.hash = proof\n",
    "        self.chain.append(block)\n",
    "        \n",
    "        return True\n",
    "    \n",
    "    def add_new_transaction(self, transaction:dict) -> None:\n",
    "            self.unconfirmed_transactions.append(transaction)\n",
    "            \n",
    "    def mine(self) -> int:\n",
    "        if len(self.unconfirmed_transactions)<1:\n",
    "            return -1\n",
    "        \n",
    "        last_block = self.get_last_block()\n",
    " \n",
    "        new_block = MyBlock(index=last_block.index+1,\n",
    "                          transactions=self.unconfirmed_transactions,\n",
    "                          timestamp=(time.asctime()),\n",
    "                          previous_hash=last_block.hash)\n",
    "    \n",
    "        property_hash = self.proof_of_work(new_block)\n",
    "        new_block.hash = property_hash\n",
    "        self.add_block(new_block, property_hash)\n",
    "        self.unconfirmed_transactions = []\n",
    "        \n",
    "        return new_block.index"
   ]
  },
  {
   "cell_type": "code",
   "execution_count": 125,
   "id": "e6380dee-1053-4d1d-b757-85df760eba15",
   "metadata": {},
   "outputs": [
    {
     "data": {
      "text/plain": [
       "{'index': 0,\n",
       " 'transactions': [],\n",
       " 'timestamp': 0,\n",
       " 'property_hash': '',\n",
       " 'previous_hash': '',\n",
       " 'nonce': 0}"
      ]
     },
     "execution_count": 125,
     "metadata": {},
     "output_type": "execute_result"
    }
   ],
   "source": [
    "mb = MyBlock()\n",
    "mb.__dict__ # what the block contains  "
   ]
  },
  {
   "cell_type": "code",
   "execution_count": 126,
   "id": "8ae0dc83-20af-4834-b095-9b3ae462eb0d",
   "metadata": {},
   "outputs": [
    {
     "data": {
      "text/plain": [
       "<__main__.MyBlock at 0x2c0021b9040>"
      ]
     },
     "execution_count": 126,
     "metadata": {},
     "output_type": "execute_result"
    }
   ],
   "source": [
    "mb"
   ]
  },
  {
   "cell_type": "code",
   "execution_count": 127,
   "id": "bbc5753e-2e13-418e-8548-aa9508cbfeac",
   "metadata": {},
   "outputs": [
    {
     "data": {
      "text/plain": [
       "'140e1a639663cc35cc991efd53e9b32b3b705bee3479b1036b921d986d5cf01b'"
      ]
     },
     "execution_count": 127,
     "metadata": {},
     "output_type": "execute_result"
    }
   ],
   "source": [
    "mb.compute_hash()"
   ]
  },
  {
   "cell_type": "code",
   "execution_count": 128,
   "id": "44ec9f9d-ea7f-4cc2-b02a-5760fa5b11e2",
   "metadata": {},
   "outputs": [
    {
     "data": {
      "text/plain": [
       "False"
      ]
     },
     "execution_count": 128,
     "metadata": {},
     "output_type": "execute_result"
    }
   ],
   "source": [
    "mb.compute_hash().startswith('0'*2)"
   ]
  },
  {
   "cell_type": "code",
   "execution_count": 129,
   "id": "eeef118a-a406-406c-a938-6fd9680d2291",
   "metadata": {},
   "outputs": [],
   "source": [
    "bc = Blockchain()\n",
    "bc.add_new_transaction({'Name': \"Abdullah \",'School':\"AlgomaU\"})\n",
    "#x.compute_hash # calling the method of hash returning the hex digest of the block_string "
   ]
  },
  {
   "cell_type": "code",
   "execution_count": 130,
   "id": "09375c46-25b4-4d69-ac35-d804fdac4895",
   "metadata": {},
   "outputs": [
    {
     "data": {
      "text/plain": [
       "{'unconfirmed_transactions': [{'Name': 'Abdullah ', 'School': 'AlgomaU'}],\n",
       " 'chain': [<__main__.MyBlock at 0x2c0021b97c0>],\n",
       " 'difficulty': 2}"
      ]
     },
     "execution_count": 130,
     "metadata": {},
     "output_type": "execute_result"
    }
   ],
   "source": [
    "bc.__dict__"
   ]
  },
  {
   "cell_type": "code",
   "execution_count": 131,
   "id": "e6deff0c-2c33-40f1-8c4c-c0775a86f2a6",
   "metadata": {},
   "outputs": [
    {
     "data": {
      "text/plain": [
       "[{'Name': 'Abdullah ', 'School': 'AlgomaU'}]"
      ]
     },
     "execution_count": 131,
     "metadata": {},
     "output_type": "execute_result"
    }
   ],
   "source": [
    "bc.unconfirmed_transactions"
   ]
  },
  {
   "cell_type": "code",
   "execution_count": 132,
   "id": "5596f896-b03a-4bed-8f55-39437ed6b60c",
   "metadata": {},
   "outputs": [
    {
     "data": {
      "text/plain": [
       "{'index': 0,\n",
       " 'transactions': [],\n",
       " 'timestamp': 'Tue Dec  7 23:23:41 2021',\n",
       " 'property_hash': '',\n",
       " 'previous_hash': '',\n",
       " 'nonce': 0,\n",
       " 'hash': '571aa01636a3acb002d58b07b1f270d3e30f43092608f34508f726cb4fe1be5c'}"
      ]
     },
     "execution_count": 132,
     "metadata": {},
     "output_type": "execute_result"
    }
   ],
   "source": [
    "bc.chain[0].__dict__"
   ]
  },
  {
   "cell_type": "code",
   "execution_count": 133,
   "id": "a9980afe-5e77-48b8-9c39-58e67fcdb1c4",
   "metadata": {},
   "outputs": [
    {
     "data": {
      "text/plain": [
       "1"
      ]
     },
     "execution_count": 133,
     "metadata": {},
     "output_type": "execute_result"
    }
   ],
   "source": [
    "bc.mine()"
   ]
  },
  {
   "cell_type": "code",
   "execution_count": 134,
   "id": "98d86225-380c-4e01-885a-70e6ae65959f",
   "metadata": {},
   "outputs": [],
   "source": [
    "bc.add_new_transaction({\"addr_from\":\"c96e13ffc466f24419439b8fba725368fe5ecad831f9bf2ae2599d9d99a9a21a\",\n",
    "                       \"addr_to\": \"140e1a639663cc35cc991efd53e9b32b3b705bee3479b1036b921d986d5cf01b\",\n",
    "                       \"amount\": 99.00})\n",
    "  "
   ]
  },
  {
   "cell_type": "code",
   "execution_count": 135,
   "id": "5bc378a5-1388-455c-9a5b-9bf57ffc0051",
   "metadata": {},
   "outputs": [
    {
     "data": {
      "text/plain": [
       "{'unconfirmed_transactions': [{'addr_from': 'c96e13ffc466f24419439b8fba725368fe5ecad831f9bf2ae2599d9d99a9a21a',\n",
       "   'addr_to': '140e1a639663cc35cc991efd53e9b32b3b705bee3479b1036b921d986d5cf01b',\n",
       "   'amount': 99.0}],\n",
       " 'chain': [<__main__.MyBlock at 0x2c0021b97c0>],\n",
       " 'difficulty': 2}"
      ]
     },
     "execution_count": 135,
     "metadata": {},
     "output_type": "execute_result"
    }
   ],
   "source": [
    "bc.__dict__"
   ]
  },
  {
   "cell_type": "code",
   "execution_count": 136,
   "id": "01c455d0-86d7-4f4d-bec4-baec3bc2201c",
   "metadata": {},
   "outputs": [
    {
     "data": {
      "text/plain": [
       "[{'addr_from': 'c96e13ffc466f24419439b8fba725368fe5ecad831f9bf2ae2599d9d99a9a21a',\n",
       "  'addr_to': '140e1a639663cc35cc991efd53e9b32b3b705bee3479b1036b921d986d5cf01b',\n",
       "  'amount': 99.0}]"
      ]
     },
     "execution_count": 136,
     "metadata": {},
     "output_type": "execute_result"
    }
   ],
   "source": [
    "bc.unconfirmed_transactions"
   ]
  },
  {
   "cell_type": "code",
   "execution_count": 137,
   "id": "1c05a964-e410-4313-b2b3-74ff79529d70",
   "metadata": {},
   "outputs": [
    {
     "data": {
      "text/plain": [
       "{'index': 0,\n",
       " 'transactions': [],\n",
       " 'timestamp': 'Tue Dec  7 23:23:41 2021',\n",
       " 'property_hash': '',\n",
       " 'previous_hash': '',\n",
       " 'nonce': 0,\n",
       " 'hash': '571aa01636a3acb002d58b07b1f270d3e30f43092608f34508f726cb4fe1be5c'}"
      ]
     },
     "execution_count": 137,
     "metadata": {},
     "output_type": "execute_result"
    }
   ],
   "source": [
    "bc.chain[0].__dict__"
   ]
  },
  {
   "cell_type": "code",
   "execution_count": 138,
   "id": "1903fcd3-b68a-48b0-9451-553269b41eca",
   "metadata": {},
   "outputs": [
    {
     "data": {
      "text/plain": [
       "1"
      ]
     },
     "execution_count": 138,
     "metadata": {},
     "output_type": "execute_result"
    }
   ],
   "source": [
    "bc.mine()"
   ]
  },
  {
   "cell_type": "code",
   "execution_count": 57,
   "id": "440baca0-7f16-48d5-8fc4-d9ed9a362fc4",
   "metadata": {},
   "outputs": [
    {
     "data": {
      "text/plain": [
       "<__main__.MyBlock at 0x2c00129abe0>"
      ]
     },
     "execution_count": 57,
     "metadata": {},
     "output_type": "execute_result"
    }
   ],
   "source": [
    "bc.get_last_block()"
   ]
  },
  {
   "cell_type": "code",
   "execution_count": null,
   "id": "7d049bdd-3095-44e5-b477-74706e0e0866",
   "metadata": {},
   "outputs": [],
   "source": []
  }
 ],
 "metadata": {
  "kernelspec": {
   "display_name": "Python 3",
   "language": "python",
   "name": "python3"
  },
  "language_info": {
   "codemirror_mode": {
    "name": "ipython",
    "version": 3
   },
   "file_extension": ".py",
   "mimetype": "text/x-python",
   "name": "python",
   "nbconvert_exporter": "python",
   "pygments_lexer": "ipython3",
   "version": "3.8.8"
  }
 },
 "nbformat": 4,
 "nbformat_minor": 5
}
